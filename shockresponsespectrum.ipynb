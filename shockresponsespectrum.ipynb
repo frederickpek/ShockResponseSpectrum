{
 "cells": [
  {
   "cell_type": "markdown",
   "metadata": {},
   "source": [
    "# Shock Response Spectrum\n",
    "\n",
    "The goal is to generate a shock response spectrum (SRS), given an input base acceleration-time data.\n",
    "\n",
    "An SRS is a useful tool for estimating the damage potential of a shock pulse to some structure, as well as for test level specification."
   ]
  },
  {
   "cell_type": "code",
   "execution_count": 1,
   "metadata": {},
   "outputs": [],
   "source": [
    "from math import pi\n",
    "import numpy as np\n",
    "import matplotlib.pyplot as plt"
   ]
  },
  {
   "cell_type": "code",
   "execution_count": 2,
   "metadata": {},
   "outputs": [],
   "source": [
    "d = 0.011\n",
    "h = 0.0001                      # timestep, h\n",
    "t = np.arange(0, 0.05, h)       # time series, t\n",
    "u = 70*np.sin(pi/d*t)*(t<=d)    # input acceleration, u (half-sine pulse of d seconds)"
   ]
  },
  {
   "cell_type": "code",
   "execution_count": 3,
   "metadata": {},
   "outputs": [
    {
     "data": {
      "image/png": "[encoded data removed]",
      "text/plain": [
       "<Figure size 432x288 with 1 Axes>"
      ]
     },
     "metadata": {
      "needs_background": "light"
     },
     "output_type": "display_data"
    }
   ],
   "source": [
    "plt.plot(t, u)\n",
    "plt.title(\"Half-Sine Pulse Input Base Acceleration vs Time\")\n",
    "plt.xlabel(\"Time (s)\");\n",
    "plt.ylabel(\"Base Acceleration (g)\");\n",
    "plt.show()"
   ]
  },
  {
   "cell_type": "markdown",
   "metadata": {},
   "source": [
    "# SRS Calculation\n",
    "\n",
    "The SRS is specifically a plot of the peak absolute accelerations of a structure against a range of hypothetical natural frequencies of interest. This gives us a the approximate worst case accelerations experienced by the structure.\n",
    "\n",
    "We will first model the system as a Single-Degree-Of-Freedon Spring-Mass-Damnper system. We can derive a 2nd order ODE as follows.\n",
    "\n",
    "$$\\ddot{z} + 2\\zeta\\omega_0\\dot{z} + \\omega_0^2z = -\\ddot{u}$$\n",
    "\n",
    "The damping ratio $\\zeta$ is given by the equation $\\frac{1}{2Q}$, where $Q$ is set to $10$ for large metallic bodies in SRS calculations by convention. $z$ ans $u$ are the relative displacement of the structure to the base and the base displacement respectively. \n",
    "\n",
    "The absolute acceleration $\\ddot{x}$ of the structure is given by the following relation.\n",
    "\n",
    "$$\\ddot{x} = \\ddot{z} + \\ddot{u}$$\n",
    "\n",
    "First we find $z(t)$ by solving the 2nd order ODE with numerical methods, as we only have pairwise values of $\\ddot{u}$ and $t$.\n",
    "\n",
    "The method chosen to for the numerical integration is Runga Kutta's 4th Order Method (RK4). Given the initial value problem as such;\n",
    "\n",
    "$$\\frac{dy}{dx} = f(t, y), y(t_0) = y_0$$\n",
    "\n",
    "We can solve for successive y values by the following;\n",
    "\n",
    "\\begin{equation}\n",
    "\\begin{split}\n",
    "& y_{n+1} = y_n + \\frac{1}{6}h(k_1 + 2k_2 + 2k_3 + k4) \\\\\n",
    "& t_{n+1} = t_n + h\n",
    "\\end{split}\n",
    "\\end{equation}\n",
    "\n",
    "Where $h$ is the timestep and,\n",
    "\n",
    "\\begin{equation}\n",
    "\\begin{split}\n",
    "& k_1 = f(t_n, y_n) \\\\\n",
    "& k_2 = f(t_n + \\frac{h}{2}, y_nh\\frac{k1}{2}) \\\\\n",
    "& k_3 = f(t_n + \\frac{h}{2}, y_nh\\frac{k2}{2}) \\\\\n",
    "& k_4 = f(t_n + h, y_n + hk3)\n",
    "\\end{split}\n",
    "\\end{equation}\n",
    "\n",
    "RK4 is a much more accurate numerical integration method as compared to the famouse Euler's Method. However, RK4 can only be used to solve 1st order ODEs. We need to first transform our 2nd order ODE into a form we can work with.\n",
    "\n",
    "State-Space Representation are mathematical models of physical systems as a set of input, output and state variables related by 1st order differentials.\n",
    "\n",
    "We let $z_1 = z$ and $z_2 = \\dot{z}$ be the the relative displacement and relative velocities, they are the minimum number of states required to quantify the 2nd order ODE. We then represent the dynamics (derivatives) of these states in terms of the states themselves, as well as the input $\\ddot{u}$.\n",
    "\n",
    "\\begin{equation}\n",
    "\\begin{split}\n",
    "& \\dot{z_1} = z_2 \\\\\n",
    "& \\dot{z_2} = -2\\zeta\\omega_0\\dot{z} - \\omega_0^2z -\\ddot{u}\n",
    "\\end{split}\n",
    "\\end{equation}\n",
    "\n",
    "The State-Space Model can be represented in matrix form.\n",
    "\n",
    "$$\n",
    "\\begin{bmatrix} \\dot{z_1} \\\\ \\dot{z_2} \\end{bmatrix}\n",
    "=\n",
    "\\begin{bmatrix} 0 & 1 \\\\ -\\omega_0^2 & -2\\zeta\\omega_0 \\end{bmatrix}\n",
    "\\begin{bmatrix} z_1 \\\\ z_2 \\end{bmatrix}\n",
    "+\n",
    "\\begin{bmatrix} 0 \\\\ -1 \\end{bmatrix}\\ddot{u}\n",
    "$$\n",
    "\n",
    "Define $y = \\begin{bmatrix} z_1 \\\\ z_2 \\end{bmatrix} $, we can get that our state-space model follows $\\dot{y} = Ay + B\\ddot{u}$, the exact form we are able to apply RK4 on. With initual conditions of $y_0$ being $\\begin{bmatrix} 0 \\\\ 0 \\end{bmatrix}$, seeing as how the displacements and velocities of both the base and structure is $0$. We can find $z$ by applying $z = \\begin{bmatrix} 1 & 0 \\end{bmatrix}y$.\n",
    "\n",
    "Employing RK4 allows us to evaluate for pairwise values of $z$ and $t$. We're interested in finding $\\ddot{x}(t).$ Going back to the equation $\\ddot{x} = \\ddot{z} + \\ddot{u}$, we just need to find $\\ddot{z}$ and add it to $\\ddot{u}$. Again, we need to use a numerical method to find calculate the derivative. This would be done by taking successive differences between $z(i)$ and $z(i+1)$, keeping in mind that the the size of our $\\dot{z}$ array would be $1$ less than the $z$ array. Repeating for the 2nd derivative, lastly, summing $\\ddot{z}$ and $\\ddot{u}$ gives us $\\ddot{x}$. We can now store the maximum value of $\\ddot{x}$ against the $\\omega_0$ value used to calculate this absolute acceleration. We repeat this over the range of natural frequencies of interest. The resulting plot of the peak $\\ddot{x}$ values against $\\omega_0$ gives us the SRS.\n",
    "\n",
    "A sample implementation of the above described algorithm is given below.\n"
   ]
  },
  {
   "cell_type": "code",
   "execution_count": 4,
   "metadata": {},
   "outputs": [],
   "source": [
    "Q = 10\n",
    "zeta = 1/(2*Q)\n",
    "\n",
    "f1 = 10\n",
    "f2 = 2000\n",
    "w = 2*pi*f1\n",
    "w2 = 2*pi*f2\n",
    "\n",
    "dt = np.diff(t)\n",
    "d2t = np.diff(t[0:len(t)-1])\n",
    "d2udt2 = u[0:len(u)-2]\n",
    "\n",
    "Hz = []\n",
    "peak_acceleration = []\n",
    "\n",
    "while (w<=w2):\n",
    "    # State Space Representation Matrices\n",
    "    A = np.array([[0, 1], [-w**2, -2*zeta*w]])\n",
    "    B = np.array([[0], [-1]])\n",
    "    C = np.array([1, 0])\n",
    "    \n",
    "    z = [0]\n",
    "    y = np.array([[0], [0]])\n",
    "    \n",
    "    # Runga Kutta 4th Order Method\n",
    "    for i in range(len(u)-1):\n",
    "        k1 = h * (A.dot(y) + B*u[i])\n",
    "        k2 = h * (A.dot(y+(k1/2)) + B*(u[i]+u[i+1])/2)\n",
    "        k3 = h * (A.dot(y+(k2/2)) + B*(u[i]+u[i+1])/2)\n",
    "        k4 = h * (A.dot(y+k3) + B*u[i+1])\n",
    "        \n",
    "        y = y + (k1 + 2*k2 + 2*k3 + k4)/6\n",
    "        z.append(C.dot(y))\n",
    "    \n",
    "    # Numerical Double Differentiation\n",
    "    dzdt = np.diff(z)/dt\n",
    "    d2zdt2 = np.diff(dzdt)/d2t\n",
    "    d2xdt2 = d2zdt2 + d2udt2\n",
    "    \n",
    "    Hz.append(w/(2*pi))\n",
    "    peak_acceleration.append(np.amax(d2xdt2))\n",
    "    w += 10"
   ]
  },
  {
   "cell_type": "code",
   "execution_count": 5,
   "metadata": {},
   "outputs": [
    {
     "data": {
      "image/png": "[encoded data removed]",
      "text/plain": [
       "<Figure size 432x288 with 1 Axes>"
      ]
     },
     "metadata": {
      "needs_background": "light"
     },
     "output_type": "display_data"
    }
   ],
   "source": [
    "plt.plot(Hz, peak_acceleration)\n",
    "plt.yscale(\"log\")\n",
    "plt.xscale(\"log\")\n",
    "plt.title(\"Shock Response Spectrum\")\n",
    "plt.xlabel(\"Frequency (Hz)\")\n",
    "plt.ylabel(\"Peak Acceleration (g)\")\n",
    "plt.grid()\n",
    "plt.show()"
   ]
  }
 ],
 "metadata": {
  "kernelspec": {
   "display_name": "Python 3",
   "language": "python",
   "name": "python3"
  },
  "language_info": {
   "codemirror_mode": {
    "name": "ipython",
    "version": 3
   },
   "file_extension": ".py",
   "mimetype": "text/x-python",
   "name": "python",
   "nbconvert_exporter": "python",
   "pygments_lexer": "ipython3",
   "version": "3.7.6"
  }
 },
 "nbformat": 4,
 "nbformat_minor": 4
}
